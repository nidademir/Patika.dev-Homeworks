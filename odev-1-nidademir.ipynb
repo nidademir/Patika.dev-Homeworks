{
 "cells": [
  {
   "cell_type": "markdown",
   "id": "2f1b1c1e",
   "metadata": {},
   "source": [
    "ÖDEV 1"
   ]
  },
  {
   "cell_type": "code",
   "execution_count": null,
   "id": "9496259d",
   "metadata": {},
   "outputs": [
    {
     "name": "stdout",
     "output_type": "stream",
     "text": [
      "Sıfır sayısını girdiniz.\n"
     ]
    }
   ],
   "source": [
    "# Girilen sayının pozitif, negatif veya sıfır olduğunu yazan koşul.\n",
    "\n",
    "sayi = float(input(\"Bir sayı giriniz: \"))             # Kullanıcıdan bir sayı girmesini istedik\n",
    "\n",
    "if sayi > 0:                                          # Girilen sayının durumunu kontrol ettik\n",
    "    print(\"Girdiğiniz sayı pozitiftir.\")\n",
    "elif sayi < 0:\n",
    "    print(\"Girdiğiniz sayı negatiftir.\")\n",
    "else:\n",
    "    print(\"Sıfır sayısını girdiniz.\")\n",
    "\n"
   ]
  },
  {
   "cell_type": "code",
   "execution_count": null,
   "id": "0fc8569a",
   "metadata": {},
   "outputs": [
    {
     "name": "stdout",
     "output_type": "stream",
     "text": [
      "Girdiğiniz sayı çift sayıdır.\n"
     ]
    }
   ],
   "source": [
    "# Girilen sayının tek mi çift mi olduğunu yazan koşul.\n",
    "\n",
    "sayi = int(input(\"Bir sayı giriniz: \"))             \n",
    "\n",
    "if sayi % 2 == 0:                                   \n",
    "    print(\"Girdiğiniz sayı çift sayıdır.\")\n",
    "else:\n",
    "    print(\"Girdiğiniz sayı tek sayıdır.\")"
   ]
  },
  {
   "cell_type": "code",
   "execution_count": 15,
   "id": "88fe4a37",
   "metadata": {},
   "outputs": [
    {
     "name": "stdout",
     "output_type": "stream",
     "text": [
      "Geçersiz not girdiniz. Lütfen 0-100 arasında bir değer giriniz.\n"
     ]
    }
   ],
   "source": [
    "# Girilen nota göre harf aralığını yazan koşul (80-100 A, 60-80 B vs.).\n",
    "\n",
    "puan = float(input(\"Notunuzu girin: \"))\n",
    "\n",
    "if 80 <= puan <= 100:\n",
    "    print(\"Harf notu A\")\n",
    "elif 60 < puan <= 80:\n",
    "    print(\"Harf notu B\")\n",
    "elif 40 < puan <= 60:\n",
    "    print(\"Harf notu C\")\n",
    "elif 20 < puan <= 40:\n",
    "    print(\"Harf notu D\")\n",
    "elif 0 <= puan <= 20:\n",
    "    print(\"Harf notu F\")\n",
    "else:\n",
    "    print(\"Geçersiz not girdiniz. Lütfen 0-100 arasında bir değer giriniz.\")"
   ]
  },
  {
   "cell_type": "code",
   "execution_count": 20,
   "id": "50f92c23",
   "metadata": {},
   "outputs": [
    {
     "name": "stdout",
     "output_type": "stream",
     "text": [
      "Nida\n"
     ]
    }
   ],
   "source": [
    "# Girilen ismin karakter uzunluğu 5'den büyükse \"Uzun bir isminiz var\", değilse ismini yazsın.\n",
    "\n",
    "isim = input(\"Lütfen isminizi girin: \")\n",
    "\n",
    "if len(isim) > 5:\n",
    "    print(\"Uzun bir isminiz var.\")\n",
    "else:\n",
    "    print(isim)"
   ]
  },
  {
   "cell_type": "code",
   "execution_count": null,
   "id": "6a0814ae",
   "metadata": {},
   "outputs": [
    {
     "name": "stdout",
     "output_type": "stream",
     "text": [
      "Asal sayı değildir.\n"
     ]
    }
   ],
   "source": [
    "# Girilen sayının asal olup olmadığını bulan kod dizisi. (for ve while)\n",
    "\n",
    "# for ile\n",
    "\n",
    "sayi = int(input(\"Bir sayı girin: \"))\n",
    "\n",
    "if sayi > 1:\n",
    "    for i in range(2, sayi):\n",
    "        if (sayi % i) == 0:\n",
    "            print(\"Asal sayı değildir.\")\n",
    "            break\n",
    "    else:\n",
    "        print(\"Asal sayıdır.\")\n",
    "\n",
    "else:\n",
    "    print(\"Asal sayı değildir.\")\n",
    "\n",
    "# while ile\n",
    "\n",
    "sayi = int(input(\"Bir sayı girin: \"))\n",
    "\n",
    "if sayi > 1:\n",
    "    i = 2\n",
    "    while i < sayi:\n",
    "        if sayi % i == 0:\n",
    "            print(\"Asal sayı değildir.\")\n",
    "            break\n",
    "        i += 1\n",
    "    else:\n",
    "        print(\"Asal sayıdır.\")\n",
    "else:\n",
    "    print(\"Asal sayı değildir.\")\n",
    "\n"
   ]
  },
  {
   "cell_type": "code",
   "execution_count": 1,
   "id": "20f3e061",
   "metadata": {},
   "outputs": [
    {
     "name": "stdout",
     "output_type": "stream",
     "text": [
      "75'in indisi: 2\n"
     ]
    }
   ],
   "source": [
    "# notlar = [45, 85, 75, 50] içinde 75 değerinin indisini yazdıran döngü.\n",
    "\n",
    "notlar = [45, 85, 75, 50]\n",
    "\n",
    "for i in range(len(notlar)):\n",
    "    if notlar[i] == 75:\n",
    "        print(\"75'in indisi:\", i)\n",
    "        break"
   ]
  },
  {
   "cell_type": "code",
   "execution_count": null,
   "id": "db7a63de",
   "metadata": {},
   "outputs": [
    {
     "name": "stdout",
     "output_type": "stream",
     "text": [
      "Faktöriyel: 24\n"
     ]
    }
   ],
   "source": [
    "# Girilen sayının faktöriyelini alalım. (for ve while)\n",
    "\n",
    "# for ile\n",
    "\n",
    "sayi = int(input(\"Bir sayı girin: \"))\n",
    "faktoriyel = 1\n",
    "\n",
    "if sayi < 0:\n",
    "    print(\"Negatif sayıların faktöriyeli hesaplanamaz.\")\n",
    "else:\n",
    "    for i in range(1, sayi + 1):\n",
    "        faktoriyel *= i\n",
    "    print(\"Faktöriyel:\", faktoriyel)\n",
    "\n",
    "# while ile\n",
    "\n",
    "sayi = int(input(\"Bir sayı girin: \"))\n",
    "faktoriyel = 1\n",
    "i = 1\n",
    "\n",
    "if sayi < 0:\n",
    "    print(\"Negatif sayıların faktöriyeli hesaplanamaz.\")\n",
    "else:\n",
    "    while i <= sayi:\n",
    "        faktoriyel *= i\n",
    "        i += 1\n",
    "    print(\"Faktöriyel:\", faktoriyel)\n",
    "\n"
   ]
  },
  {
   "cell_type": "code",
   "execution_count": 7,
   "id": "ef266e41",
   "metadata": {},
   "outputs": [
    {
     "name": "stdout",
     "output_type": "stream",
     "text": [
      "Negatif sayı girdiniz, tekrar deneyin.\n",
      "Pozitif bir sayı girdiniz.\n"
     ]
    }
   ],
   "source": [
    "# Kullanıcıdan pozitif bir sayı bekleyen, pozitifi de gördüğü an bastıran, negatif sayı girildikçe bir daha soran yapı kuralım. (for ile)\n",
    "\n",
    "for i in range(100):\n",
    "    sayi = int(input(\"Pozitif bir sayı girin: \"))\n",
    "    if sayi > 0:\n",
    "        print(\"Pozitif bir sayı girdiniz.\")\n",
    "        break\n",
    "    else:\n",
    "        print(\"Negatif sayı girdiniz, tekrar deneyin.\")\n"
   ]
  },
  {
   "cell_type": "code",
   "execution_count": null,
   "id": "3df5f334",
   "metadata": {},
   "outputs": [
    {
     "name": "stdout",
     "output_type": "stream",
     "text": [
      "Asal sayıdır.\n"
     ]
    }
   ],
   "source": [
    "# Fonksiyon ile girilen sayının asal olup olmadığını bulan kod dizisi. (for ve while)\n",
    "\n",
    "# for ile\n",
    "\n",
    "def asal_kontrol_for():\n",
    "    sayi = int(input(\"Bir sayı girin: \"))\n",
    "\n",
    "    if sayi > 1:\n",
    "        for i in range(2, sayi):\n",
    "            if (sayi % i) == 0:\n",
    "                print(\"Asal sayı değildir.\")\n",
    "                break\n",
    "        else:\n",
    "            print(\"Asal sayıdır.\")\n",
    "    else:\n",
    "        print(\"Asal sayı değildir.\")\n",
    "\n",
    "asal_kontrol_for()\n",
    "\n",
    "# while ile\n",
    "\n",
    "def asal_kontrol_while():\n",
    "    sayi = int(input(\"Bir sayı girin: \"))\n",
    "\n",
    "    if sayi > 1:\n",
    "        i = 2\n",
    "        while i < sayi:\n",
    "            if (sayi % i) == 0:\n",
    "                print(\"Asal sayı değildir.\")\n",
    "                break\n",
    "            i += 1\n",
    "        else:\n",
    "            print(\"Asal sayıdır.\")\n",
    "    else:\n",
    "        print(\"Asal sayı değildir.\")\n",
    "\n",
    "asal_kontrol_while()\n"
   ]
  },
  {
   "cell_type": "code",
   "execution_count": null,
   "id": "45aa2377",
   "metadata": {},
   "outputs": [
    {
     "data": {
      "text/plain": [
       "24"
      ]
     },
     "execution_count": 3,
     "metadata": {},
     "output_type": "execute_result"
    }
   ],
   "source": [
    "# Fonksiyon ile girilen sayının faktöriyelini alalım. (for ve while)\n",
    "\n",
    "# for ile\n",
    "\n",
    "def faktoriyel_for():\n",
    "    sayi = int(input(\"Bir sayı girin: \"))\n",
    "    faktoriyel = 1\n",
    "\n",
    "    if sayi < 0:\n",
    "        print(\"Negatif sayıların faktöriyeli hesaplanamaz.\")\n",
    "    else:\n",
    "        for i in range(1, sayi + 1):\n",
    "            faktoriyel *= i\n",
    "        return (faktoriyel)\n",
    "\n",
    "faktoriyel_for()\n",
    "\n",
    "# while ile\n",
    "\n",
    "def faktoriyel_while():\n",
    "    sayi = int(input(\"Bir sayı girin: \"))\n",
    "    faktoriyel = 1\n",
    "    i = 1\n",
    "\n",
    "    if sayi < 0:\n",
    "        print(\"Negatif sayıların faktöriyeli hesaplanamaz.\")\n",
    "    else:\n",
    "        while i <= sayi:\n",
    "            faktoriyel *= i\n",
    "            i += 1\n",
    "        return(faktoriyel)\n",
    "\n",
    "faktoriyel_while()"
   ]
  },
  {
   "cell_type": "code",
   "execution_count": null,
   "id": "4add8aa3",
   "metadata": {},
   "outputs": [],
   "source": []
  }
 ],
 "metadata": {
  "kernelspec": {
   "display_name": "Python 3",
   "language": "python",
   "name": "python3"
  },
  "language_info": {
   "codemirror_mode": {
    "name": "ipython",
    "version": 3
   },
   "file_extension": ".py",
   "mimetype": "text/x-python",
   "name": "python",
   "nbconvert_exporter": "python",
   "pygments_lexer": "ipython3",
   "version": "3.13.2"
  }
 },
 "nbformat": 4,
 "nbformat_minor": 5
}
